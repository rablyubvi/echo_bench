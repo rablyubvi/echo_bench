{
 "cells": [
  {
   "cell_type": "code",
   "execution_count": 1,
   "id": "efdd71e1",
   "metadata": {
    "scrolled": true
   },
   "outputs": [
    {
     "name": "stdout",
     "output_type": "stream",
     "text": [
      "Requirement already satisfied: selenium in d:\\new folder\\lib\\site-packages (4.29.0)\n",
      "Requirement already satisfied: webdriver_manager in d:\\new folder\\lib\\site-packages (4.0.2)\n",
      "Requirement already satisfied: urllib3[socks]<3,>=1.26 in d:\\new folder\\lib\\site-packages (from selenium) (1.26.16)\n",
      "Requirement already satisfied: trio~=0.17 in d:\\new folder\\lib\\site-packages (from selenium) (0.29.0)\n",
      "Requirement already satisfied: trio-websocket~=0.9 in d:\\new folder\\lib\\site-packages (from selenium) (0.12.2)\n",
      "Requirement already satisfied: certifi>=2021.10.8 in d:\\new folder\\lib\\site-packages (from selenium) (2024.8.30)\n",
      "Requirement already satisfied: typing_extensions~=4.9 in d:\\new folder\\lib\\site-packages (from selenium) (4.12.2)\n",
      "Requirement already satisfied: websocket-client~=1.8 in d:\\new folder\\lib\\site-packages (from selenium) (1.8.0)\n",
      "Requirement already satisfied: requests in d:\\new folder\\lib\\site-packages (from webdriver_manager) (2.31.0)\n",
      "Requirement already satisfied: python-dotenv in d:\\new folder\\lib\\site-packages (from webdriver_manager) (0.21.0)\n",
      "Requirement already satisfied: packaging in d:\\new folder\\lib\\site-packages (from webdriver_manager) (23.1)\n",
      "Requirement already satisfied: attrs>=23.2.0 in d:\\new folder\\lib\\site-packages (from trio~=0.17->selenium) (25.1.0)\n",
      "Requirement already satisfied: sortedcontainers in d:\\new folder\\lib\\site-packages (from trio~=0.17->selenium) (2.4.0)\n",
      "Requirement already satisfied: idna in d:\\new folder\\lib\\site-packages (from trio~=0.17->selenium) (3.4)\n",
      "Requirement already satisfied: outcome in d:\\new folder\\lib\\site-packages (from trio~=0.17->selenium) (1.3.0.post0)\n",
      "Requirement already satisfied: sniffio>=1.3.0 in d:\\new folder\\lib\\site-packages (from trio~=0.17->selenium) (1.3.1)\n",
      "Requirement already satisfied: cffi>=1.14 in d:\\new folder\\lib\\site-packages (from trio~=0.17->selenium) (1.15.1)\n",
      "Requirement already satisfied: wsproto>=0.14 in d:\\new folder\\lib\\site-packages (from trio-websocket~=0.9->selenium) (1.2.0)\n",
      "Requirement already satisfied: PySocks!=1.5.7,<2.0,>=1.5.6 in d:\\new folder\\lib\\site-packages (from urllib3[socks]<3,>=1.26->selenium) (1.7.1)\n",
      "Requirement already satisfied: charset-normalizer<4,>=2 in d:\\new folder\\lib\\site-packages (from requests->webdriver_manager) (2.0.4)\n",
      "Requirement already satisfied: pycparser in d:\\new folder\\lib\\site-packages (from cffi>=1.14->trio~=0.17->selenium) (2.21)\n",
      "Requirement already satisfied: h11<1,>=0.9.0 in d:\\new folder\\lib\\site-packages (from wsproto>=0.14->trio-websocket~=0.9->selenium) (0.14.0)\n"
     ]
    }
   ],
   "source": [
    "!pip install selenium webdriver_manager "
   ]
  },
  {
   "cell_type": "code",
   "execution_count": 4,
   "id": "a36828f8",
   "metadata": {
    "scrolled": true
   },
   "outputs": [
    {
     "name": "stdout",
     "output_type": "stream",
     "text": [
      "Các file đã tải về: ['balanced_dataset_part1.xlsx']\n"
     ]
    }
   ],
   "source": [
    "from selenium.webdriver.support import expected_conditions as EC\n",
    "from selenium.webdriver.support.ui import WebDriverWait\n",
    "from selenium.webdriver.chrome.options import Options\n",
    "from selenium.webdriver.common.keys import Keys\n",
    "from selenium.webdriver.common.by import By\n",
    "from selenium import webdriver\n",
    "import pandas as pd\n",
    "import random\n",
    "import time\n",
    "import os\n",
    "\n",
    "download_directory = r\"C:\\translated\"\n",
    "chrome_options = Options()\n",
    "chrome_options.add_experimental_option(\"prefs\", {\n",
    "    \"download.default_directory\": download_directory,  \n",
    "    \"download.prompt_for_download\": False, \n",
    "    \"download.directory_upgrade\": True,\n",
    "    \"safebrowsing.enabled\": True\n",
    "})\n",
    "\n",
    "driver = webdriver.Chrome(options=chrome_options)\n",
    "driver.get(\"https://translate.google.com/?hl=vi&sl=en&tl=vi&op=docs\")\n",
    "\n",
    "upload_input = driver.find_element(By.XPATH, '//input[@type=\"file\"]')\n",
    "\n",
    "file_path = r\"C:\\Users\\acer\\Downloads\\balanced_dataset_part1.xlsx\"\n",
    "upload_input.send_keys(file_path)\n",
    "\n",
    "wait = WebDriverWait(driver, 10)\n",
    "\n",
    "time.sleep(20)\n",
    "\n",
    "translate_button = driver.find_element(By.XPATH, '//*[@id=\"yDmH0d\"]/c-wiz/div/div[2]/c-wiz/div[3]/c-wiz/div[2]/c-wiz/div/div[1]/div/div[2]/div/div/button/span')\n",
    "translate_button.click()\n",
    "\n",
    "time.sleep(10)\n",
    "\n",
    "download_button = wait.until(EC.element_to_be_clickable((By.XPATH, '/html/body/c-wiz/div/div[2]/c-wiz/div[3]/c-wiz/div[2]/c-wiz/div/div[1]/div/div[2]/div/button/span[2]')))\n",
    "download_button.click()\n",
    "\n",
    "time.sleep(10)\n",
    "\n",
    "downloaded_files = os.listdir(download_directory)\n",
    "print(\"Các file đã tải về:\", downloaded_files)\n",
    "\n",
    "driver.quit()\n"
   ]
  },
  {
   "cell_type": "markdown",
   "id": "0b1e9332",
   "metadata": {},
   "source": [
    "Sau khi tải file về, file sẽ ở định dạng xlsx, sẽ cần chuyển đổi sang dạng file csv để sử dụng "
   ]
  }
 ],
 "metadata": {
  "kernelspec": {
   "display_name": "Python 3 (ipykernel)",
   "language": "python",
   "name": "python3"
  },
  "language_info": {
   "codemirror_mode": {
    "name": "ipython",
    "version": 3
   },
   "file_extension": ".py",
   "mimetype": "text/x-python",
   "name": "python",
   "nbconvert_exporter": "python",
   "pygments_lexer": "ipython3",
   "version": "3.11.5"
  }
 },
 "nbformat": 4,
 "nbformat_minor": 5
}
